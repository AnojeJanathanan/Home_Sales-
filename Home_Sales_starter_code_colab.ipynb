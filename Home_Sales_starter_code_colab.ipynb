{
  "cells": [
    {
      "cell_type": "code",
      "execution_count": null,
      "metadata": {
        "colab": {
          "base_uri": "https://localhost:8080/"
        },
        "id": "ldohiNuFDX1a",
        "outputId": "8f7a3a74-a9c3-40ca-b807-3afc8e109d82"
      },
      "outputs": [
        {
          "name": "stdout",
          "output_type": "stream",
          "text": [
            "\r0% [Working]\r            \rHit:1 https://cloud.r-project.org/bin/linux/ubuntu jammy-cran40/ InRelease\n",
            "Get:2 https://developer.download.nvidia.com/compute/cuda/repos/ubuntu2204/x86_64  InRelease [1,581 B]\n",
            "Get:3 https://developer.download.nvidia.com/compute/cuda/repos/ubuntu2204/x86_64  Packages [893 kB]\n",
            "Get:4 http://security.ubuntu.com/ubuntu jammy-security InRelease [129 kB]\n",
            "Hit:5 http://archive.ubuntu.com/ubuntu jammy InRelease\n",
            "Get:6 http://archive.ubuntu.com/ubuntu jammy-updates InRelease [128 kB]\n",
            "Hit:7 https://ppa.launchpadcontent.net/c2d4u.team/c2d4u4.0+/ubuntu jammy InRelease\n",
            "Hit:8 https://ppa.launchpadcontent.net/deadsnakes/ppa/ubuntu jammy InRelease\n",
            "Hit:9 http://archive.ubuntu.com/ubuntu jammy-backports InRelease\n",
            "Get:10 http://security.ubuntu.com/ubuntu jammy-security/universe amd64 Packages [1,088 kB]\n",
            "Hit:11 https://ppa.launchpadcontent.net/graphics-drivers/ppa/ubuntu jammy InRelease\n",
            "Hit:12 https://ppa.launchpadcontent.net/ubuntugis/ppa/ubuntu jammy InRelease\n",
            "Fetched 2,239 kB in 3s (802 kB/s)\n",
            "Reading package lists... Done\n"
          ]
        }
      ],
      "source": [
        "import os\n",
        "# Find the latest version of spark 3.x  from http://www.apache.org/dist/spark/ and enter as the spark version\n",
        "# For example:\n",
        "# spark_version = 'spark-3.4.0'\n",
        "spark_version = 'spark-3.5.1'\n",
        "os.environ['SPARK_VERSION']=spark_version\n",
        "\n",
        "# Install Spark and Java\n",
        "!apt-get update\n",
        "!apt-get install openjdk-11-jdk-headless -qq > /dev/null\n",
        "!wget -q http://www.apache.org/dist/spark/$SPARK_VERSION/$SPARK_VERSION-bin-hadoop3.tgz\n",
        "!tar xf $SPARK_VERSION-bin-hadoop3.tgz\n",
        "!pip install -q findspark\n",
        "\n",
        "# Set Environment Variables\n",
        "os.environ[\"JAVA_HOME\"] = \"/usr/lib/jvm/java-11-openjdk-amd64\"\n",
        "os.environ[\"SPARK_HOME\"] = f\"/content/{spark_version}-bin-hadoop3\"\n",
        "\n",
        "# Start a SparkSession\n",
        "import findspark\n",
        "findspark.init()"
      ]
    },
    {
      "cell_type": "code",
      "execution_count": null,
      "metadata": {
        "id": "ImxMWHA4EbPa"
      },
      "outputs": [],
      "source": [
        "# Import packages\n",
        "from pyspark.sql import SparkSession\n",
        "import time\n",
        "\n",
        "# Create a SparkSession\n",
        "spark = SparkSession.builder.appName(\"SparkSQL\").getOrCreate()"
      ]
    },
    {
      "cell_type": "code",
      "execution_count": null,
      "metadata": {
        "colab": {
          "base_uri": "https://localhost:8080/"
        },
        "id": "7Xzq6p8OE1F8",
        "outputId": "59ae802b-f229-4ea4-a196-c5bffeb3e37e"
      },
      "outputs": [
        {
          "name": "stdout",
          "output_type": "stream",
          "text": [
            "+---+-----+\n",
            "| id|words|\n",
            "+---+-----+\n",
            "|  0| Here|\n",
            "|  1|  Too|\n",
            "|  2|   Hi|\n",
            "+---+-----+\n",
            "\n"
          ]
        }
      ],
      "source": [
        "dataframe = spark.createDataFrame([\n",
        "    (0, \"Here\"),\n",
        "    (1, \"Too\"),\n",
        "    (2, \"Hi\")], [\"id\", \"words\"]\n",
        ")\n",
        "\n",
        "dataframe.show()"
      ]
    },
    {
      "cell_type": "code",
      "execution_count": null,
      "metadata": {
        "colab": {
          "base_uri": "https://localhost:8080/"
        },
        "id": "NgVv1AtwEsaT",
        "outputId": "42e7ec6d-7a2e-4b2d-cef2-75b04896c032"
      },
      "outputs": [
        {
          "name": "stdout",
          "output_type": "stream",
          "text": [
            "+--------------------+----------+----------+------+--------+---------+-----------+--------+------+----------+----+\n",
            "|                  id|      date|date_built| price|bedrooms|bathrooms|sqft_living|sqft_lot|floors|waterfront|view|\n",
            "+--------------------+----------+----------+------+--------+---------+-----------+--------+------+----------+----+\n",
            "|f8a53099-ba1c-47d...|2022-04-08|      2016|936923|       4|        3|       3167|   11733|     2|         1|  76|\n",
            "|7530a2d8-1ae3-451...|2021-06-13|      2013|379628|       2|        2|       2235|   14384|     1|         0|  23|\n",
            "|43de979c-0bf0-4c9...|2019-04-12|      2014|417866|       2|        2|       2127|   10575|     2|         0|   0|\n",
            "|b672c137-b88c-48b...|2019-10-16|      2016|239895|       2|        2|       1631|   11149|     2|         0|   0|\n",
            "|e0726d4d-d595-407...|2022-01-08|      2017|424418|       3|        2|       2249|   13878|     2|         0|   4|\n",
            "|5aa00529-0533-46b...|2019-01-30|      2017|218712|       2|        3|       1965|   14375|     2|         0|   7|\n",
            "|131492a1-72e2-4a8...|2020-02-08|      2017|419199|       2|        3|       2062|    8876|     2|         0|   6|\n",
            "|8d54a71b-c520-44e...|2019-07-21|      2010|323956|       2|        3|       1506|   11816|     1|         0|  25|\n",
            "|e81aacfe-17fe-46b...|2020-06-16|      2016|181925|       3|        3|       2137|   11709|     2|         0|  22|\n",
            "|2ed8d509-7372-46d...|2021-08-06|      2015|258710|       3|        3|       1918|    9666|     1|         0|  25|\n",
            "|f876d86f-3c9f-42b...|2019-02-27|      2011|167864|       3|        3|       2471|   13924|     2|         0|  15|\n",
            "|0a2bd445-8508-4d8...|2021-12-30|      2014|337527|       2|        3|       1926|   12556|     1|         0|  23|\n",
            "|941bad30-eb49-4a7...|2020-05-09|      2015|229896|       3|        3|       2197|    8641|     1|         0|   3|\n",
            "|dd61eb34-6589-4c0...|2021-07-25|      2016|210247|       3|        2|       1672|   11986|     2|         0|  28|\n",
            "|f1e4cef7-d151-439...|2019-02-01|      2011|398667|       2|        3|       2331|   11356|     1|         0|   7|\n",
            "|ea620c7b-c2f7-4c6...|2021-05-31|      2011|437958|       3|        3|       2356|   11052|     1|         0|  26|\n",
            "|f233cb41-6f33-4b0...|2021-07-18|      2016|437375|       4|        3|       1704|   11721|     2|         0|  34|\n",
            "|c797ca12-52cd-4b1...|2019-06-08|      2015|288650|       2|        3|       2100|   10419|     2|         0|   7|\n",
            "|0cfe57f3-28c2-472...|2019-10-04|      2015|308313|       3|        3|       1960|    9453|     2|         0|   2|\n",
            "|4566cd2a-ac6e-435...|2019-07-15|      2016|177541|       3|        3|       2130|   10517|     2|         0|  25|\n",
            "+--------------------+----------+----------+------+--------+---------+-----------+--------+------+----------+----+\n",
            "only showing top 20 rows\n",
            "\n"
          ]
        }
      ],
      "source": [
        "from pyspark import SparkFiles\n",
        "url = \"https://2u-data-curriculum-team.s3.amazonaws.com/dataviz-classroom/v1.2/22-big-data/home_sales_revised.csv\"\n",
        "spark.sparkContext.addFile(url)\n",
        "\n",
        "sale_1 = spark.read.csv(SparkFiles.get(\"home_sales_revised.csv\"), header=True)\n",
        "sale_1.show()"
      ]
    },
    {
      "cell_type": "code",
      "execution_count": null,
      "metadata": {
        "colab": {
          "base_uri": "https://localhost:8080/"
        },
        "id": "-GjohwivIHTq",
        "outputId": "9113d5a5-bca8-4f0b-ff0e-d49e3937faf0"
      },
      "outputs": [
        {
          "name": "stdout",
          "output_type": "stream",
          "text": [
            "+--------------------+----------+----------+------+--------+---------+-----------+--------+------+----------+----+\n",
            "|                  id|      date|date_built| price|bedrooms|bathrooms|sqft_living|sqft_lot|floors|waterfront|view|\n",
            "+--------------------+----------+----------+------+--------+---------+-----------+--------+------+----------+----+\n",
            "|f8a53099-ba1c-47d...|2022-04-08|      2016|936923|       4|        3|       3167|   11733|     2|         1|  76|\n",
            "|7530a2d8-1ae3-451...|2021-06-13|      2013|379628|       2|        2|       2235|   14384|     1|         0|  23|\n",
            "|43de979c-0bf0-4c9...|2019-04-12|      2014|417866|       2|        2|       2127|   10575|     2|         0|   0|\n",
            "|b672c137-b88c-48b...|2019-10-16|      2016|239895|       2|        2|       1631|   11149|     2|         0|   0|\n",
            "|e0726d4d-d595-407...|2022-01-08|      2017|424418|       3|        2|       2249|   13878|     2|         0|   4|\n",
            "|5aa00529-0533-46b...|2019-01-30|      2017|218712|       2|        3|       1965|   14375|     2|         0|   7|\n",
            "|131492a1-72e2-4a8...|2020-02-08|      2017|419199|       2|        3|       2062|    8876|     2|         0|   6|\n",
            "|8d54a71b-c520-44e...|2019-07-21|      2010|323956|       2|        3|       1506|   11816|     1|         0|  25|\n",
            "|e81aacfe-17fe-46b...|2020-06-16|      2016|181925|       3|        3|       2137|   11709|     2|         0|  22|\n",
            "|2ed8d509-7372-46d...|2021-08-06|      2015|258710|       3|        3|       1918|    9666|     1|         0|  25|\n",
            "|f876d86f-3c9f-42b...|2019-02-27|      2011|167864|       3|        3|       2471|   13924|     2|         0|  15|\n",
            "|0a2bd445-8508-4d8...|2021-12-30|      2014|337527|       2|        3|       1926|   12556|     1|         0|  23|\n",
            "|941bad30-eb49-4a7...|2020-05-09|      2015|229896|       3|        3|       2197|    8641|     1|         0|   3|\n",
            "|dd61eb34-6589-4c0...|2021-07-25|      2016|210247|       3|        2|       1672|   11986|     2|         0|  28|\n",
            "|f1e4cef7-d151-439...|2019-02-01|      2011|398667|       2|        3|       2331|   11356|     1|         0|   7|\n",
            "|ea620c7b-c2f7-4c6...|2021-05-31|      2011|437958|       3|        3|       2356|   11052|     1|         0|  26|\n",
            "|f233cb41-6f33-4b0...|2021-07-18|      2016|437375|       4|        3|       1704|   11721|     2|         0|  34|\n",
            "|c797ca12-52cd-4b1...|2019-06-08|      2015|288650|       2|        3|       2100|   10419|     2|         0|   7|\n",
            "|0cfe57f3-28c2-472...|2019-10-04|      2015|308313|       3|        3|       1960|    9453|     2|         0|   2|\n",
            "|4566cd2a-ac6e-435...|2019-07-15|      2016|177541|       3|        3|       2130|   10517|     2|         0|  25|\n",
            "+--------------------+----------+----------+------+--------+---------+-----------+--------+------+----------+----+\n",
            "only showing top 20 rows\n",
            "\n"
          ]
        }
      ],
      "source": [
        "sale_1.createOrReplaceTempView('homeSales')\n",
        "spark.sql(\"SELECT * FROM homeSales\").show()"
      ]
    },
    {
      "cell_type": "code",
      "execution_count": null,
      "metadata": {
        "colab": {
          "base_uri": "https://localhost:8080/"
        },
        "id": "d34lh7zsRhNa",
        "outputId": "a09c0d54-7de9-4786-9c37-1eb8b4562261"
      },
      "outputs": [
        {
          "name": "stdout",
          "output_type": "stream",
          "text": [
            "+--------------------+-------------------+----------+------+--------+---------+-----------+--------+------+----------+----+----+\n",
            "|                  id|               date|date_built| price|bedrooms|bathrooms|sqft_living|sqft_lot|floors|waterfront|view|year|\n",
            "+--------------------+-------------------+----------+------+--------+---------+-----------+--------+------+----------+----+----+\n",
            "|f8a53099-ba1c-47d...|2022-04-08 00:00:00|      2016|936923|       4|        3|       3167|   11733|     2|         1|  76|2022|\n",
            "|7530a2d8-1ae3-451...|2021-06-13 00:00:00|      2013|379628|       2|        2|       2235|   14384|     1|         0|  23|2021|\n",
            "|43de979c-0bf0-4c9...|2019-04-12 00:00:00|      2014|417866|       2|        2|       2127|   10575|     2|         0|   0|2019|\n",
            "|b672c137-b88c-48b...|2019-10-16 00:00:00|      2016|239895|       2|        2|       1631|   11149|     2|         0|   0|2019|\n",
            "|e0726d4d-d595-407...|2022-01-08 00:00:00|      2017|424418|       3|        2|       2249|   13878|     2|         0|   4|2022|\n",
            "|5aa00529-0533-46b...|2019-01-30 00:00:00|      2017|218712|       2|        3|       1965|   14375|     2|         0|   7|2019|\n",
            "|131492a1-72e2-4a8...|2020-02-08 00:00:00|      2017|419199|       2|        3|       2062|    8876|     2|         0|   6|2020|\n",
            "|8d54a71b-c520-44e...|2019-07-21 00:00:00|      2010|323956|       2|        3|       1506|   11816|     1|         0|  25|2019|\n",
            "|e81aacfe-17fe-46b...|2020-06-16 00:00:00|      2016|181925|       3|        3|       2137|   11709|     2|         0|  22|2020|\n",
            "|2ed8d509-7372-46d...|2021-08-06 00:00:00|      2015|258710|       3|        3|       1918|    9666|     1|         0|  25|2021|\n",
            "|f876d86f-3c9f-42b...|2019-02-27 00:00:00|      2011|167864|       3|        3|       2471|   13924|     2|         0|  15|2019|\n",
            "|0a2bd445-8508-4d8...|2021-12-30 00:00:00|      2014|337527|       2|        3|       1926|   12556|     1|         0|  23|2021|\n",
            "|941bad30-eb49-4a7...|2020-05-09 00:00:00|      2015|229896|       3|        3|       2197|    8641|     1|         0|   3|2020|\n",
            "|dd61eb34-6589-4c0...|2021-07-25 00:00:00|      2016|210247|       3|        2|       1672|   11986|     2|         0|  28|2021|\n",
            "|f1e4cef7-d151-439...|2019-02-01 00:00:00|      2011|398667|       2|        3|       2331|   11356|     1|         0|   7|2019|\n",
            "|ea620c7b-c2f7-4c6...|2021-05-31 00:00:00|      2011|437958|       3|        3|       2356|   11052|     1|         0|  26|2021|\n",
            "|f233cb41-6f33-4b0...|2021-07-18 00:00:00|      2016|437375|       4|        3|       1704|   11721|     2|         0|  34|2021|\n",
            "|c797ca12-52cd-4b1...|2019-06-08 00:00:00|      2015|288650|       2|        3|       2100|   10419|     2|         0|   7|2019|\n",
            "|0cfe57f3-28c2-472...|2019-10-04 00:00:00|      2015|308313|       3|        3|       1960|    9453|     2|         0|   2|2019|\n",
            "|4566cd2a-ac6e-435...|2019-07-15 00:00:00|      2016|177541|       3|        3|       2130|   10517|     2|         0|  25|2019|\n",
            "+--------------------+-------------------+----------+------+--------+---------+-----------+--------+------+----------+----+----+\n",
            "only showing top 20 rows\n",
            "\n"
          ]
        }
      ],
      "source": [
        "from pyspark.sql.functions import year, to_timestamp #code taken from https://spark.apache.org/docs/latest/api/python/reference/pyspark.sql/api/pyspark.sql.functions.to_timestamp.html\n",
        "\n",
        "sale_1 = sale_1.withColumn(\"date\", to_timestamp(sale_1[\"date\"], \"yyyy-MM-dd\"))\n",
        "sale_1 = sale_1.withColumn(\"year\", year(sale_1[\"date\"]))\n",
        "sale_1.show()"
      ]
    },
    {
      "cell_type": "code",
      "execution_count": null,
      "metadata": {
        "colab": {
          "base_uri": "https://localhost:8080/"
        },
        "id": "ezOg1ZB2H7dO",
        "outputId": "ff593ba2-84b4-4561-c864-6d810b6fd07c"
      },
      "outputs": [
        {
          "name": "stdout",
          "output_type": "stream",
          "text": [
            "+----+---------+\n",
            "|year|      Avg|\n",
            "+----+---------+\n",
            "|2019| 300263.7|\n",
            "|2020|298353.78|\n",
            "|2021|301819.44|\n",
            "|2022|296363.88|\n",
            "+----+---------+\n",
            "\n"
          ]
        }
      ],
      "source": [
        "from pyspark.sql.functions import col, avg, round\n",
        "\n",
        "question3 = sale_1.filter(col(\"bedrooms\") == 4) \\\n",
        "    .groupBy(\"year\") \\\n",
        "    .agg(round(avg(\"price\"), 2).alias(\"Avg\")) \\\n",
        "    .orderBy(\"year\")\n",
        "\n",
        "question3.show()"
      ]
    },
    {
      "cell_type": "code",
      "execution_count": null,
      "metadata": {
        "colab": {
          "base_uri": "https://localhost:8080/"
        },
        "id": "bQRWJ5LJLsYD",
        "outputId": "15b64e1f-5b6e-4b77-eb00-d8d2cb1e418c"
      },
      "outputs": [
        {
          "name": "stdout",
          "output_type": "stream",
          "text": [
            "+----------+---------+\n",
            "|DATE_BUILT|      Avg|\n",
            "+----------+---------+\n",
            "|      2010|292859.62|\n",
            "|      2011|291117.47|\n",
            "|      2012|293683.19|\n",
            "|      2013|295962.27|\n",
            "|      2014|290852.27|\n",
            "|      2015| 288770.3|\n",
            "|      2016|290555.07|\n",
            "|      2017|292676.79|\n",
            "+----------+---------+\n",
            "\n"
          ]
        }
      ],
      "source": [
        "from pyspark.sql.functions import col, avg, round\n",
        "\n",
        "question4 = sale_1.filter((col(\"bedrooms\") == 3) & (col(\"bathrooms\") == 3)) \\\n",
        "    .groupBy(\"DATE_BUILT\") \\\n",
        "    .agg(round(avg(\"price\"), 2).alias(\"Avg\")) \\\n",
        "    .orderBy(\"DATE_BUILT\")\n",
        "\n",
        "question4.show()"
      ]
    },
    {
      "cell_type": "code",
      "execution_count": null,
      "metadata": {
        "colab": {
          "base_uri": "https://localhost:8080/"
        },
        "id": "HbKPMcW9NdWH",
        "outputId": "654698c9-984e-45ff-b54b-9288871e9bf4"
      },
      "outputs": [
        {
          "name": "stdout",
          "output_type": "stream",
          "text": [
            "+----------+---------+\n",
            "|date_built|      avg|\n",
            "+----------+---------+\n",
            "|      2010|285010.22|\n",
            "|      2011|276553.81|\n",
            "|      2012|307539.97|\n",
            "|      2013|303676.79|\n",
            "|      2014|298264.72|\n",
            "|      2015|297609.97|\n",
            "|      2016| 293965.1|\n",
            "|      2017|280317.58|\n",
            "+----------+---------+\n",
            "\n"
          ]
        }
      ],
      "source": [
        "from pyspark.sql.functions import col, avg, round\n",
        "\n",
        "question5 = sale_1.filter((col(\"bedrooms\") == 3) &\n",
        "                                  (col(\"bathrooms\") == 3) &\n",
        "                                  (col(\"floors\") == 2) &\n",
        "                                  (col(\"sqft_living\") >= 2000)) \\\n",
        "    .groupBy(\"date_built\") \\\n",
        "    .agg(round(avg(\"price\"), 2).alias(\"avg\")) \\\n",
        "    .orderBy(\"date_built\")\n",
        "\n",
        "question5.show()"
      ]
    },
    {
      "cell_type": "code",
      "execution_count": null,
      "metadata": {
        "colab": {
          "base_uri": "https://localhost:8080/"
        },
        "id": "rvenINeoOuS9",
        "outputId": "b02315f5-1483-42ac-ce8e-e34cb5a6b5c1"
      },
      "outputs": [
        {
          "name": "stdout",
          "output_type": "stream",
          "text": [
            "+----+----------+\n",
            "|view|       avg|\n",
            "+----+----------+\n",
            "|  99|1061201.42|\n",
            "|  98|1053739.33|\n",
            "|  97|1129040.15|\n",
            "|  96|1017815.92|\n",
            "|  95| 1054325.6|\n",
            "|  94| 1033536.2|\n",
            "|  93|1026006.06|\n",
            "|  92| 970402.55|\n",
            "|  91|1137372.73|\n",
            "|  90|1062654.16|\n",
            "|   9| 401393.34|\n",
            "|  89|1107839.15|\n",
            "|  88|1031719.35|\n",
            "|  87| 1072285.2|\n",
            "|  86|1070444.25|\n",
            "|  85|1056336.74|\n",
            "|  84|1117233.13|\n",
            "|  83|1033965.93|\n",
            "|  82| 1063498.0|\n",
            "|  81|1053472.79|\n",
            "+----+----------+\n",
            "only showing top 20 rows\n",
            "\n",
            "--- 0.48814868927001953 seconds ---\n"
          ]
        }
      ],
      "source": [
        "from pyspark.sql.functions import col, avg, round\n",
        "import time\n",
        "\n",
        "start_time = time.time()\n",
        "\n",
        "question6 = sale_1.filter(col(\"price\") >= 350000) \\\n",
        "    .groupBy(\"view\") \\\n",
        "    .agg(round(avg(\"price\"), 2).alias(\"avg\")) \\\n",
        "    .orderBy(\"view\", ascending=False)\n",
        "\n",
        "question6.show()\n",
        "\n",
        "print(\"--- %s seconds ---\" % (time.time() - start_time))"
      ]
    },
    {
      "cell_type": "code",
      "execution_count": null,
      "metadata": {
        "colab": {
          "base_uri": "https://localhost:8080/"
        },
        "id": "mInT6AZ7OlxF",
        "outputId": "345d9ec6-b313-4803-be76-fe22b9de4fe7"
      },
      "outputs": [
        {
          "data": {
            "text/plain": [
              "DataFrame[]"
            ]
          },
          "execution_count": 60,
          "metadata": {},
          "output_type": "execute_result"
        }
      ],
      "source": [
        "spark.sql(\"CACHE TABLE homeSales\") #Question7"
      ]
    },
    {
      "cell_type": "code",
      "execution_count": null,
      "metadata": {
        "colab": {
          "base_uri": "https://localhost:8080/"
        },
        "id": "qpdskVLKO_Ep",
        "outputId": "304926a1-e0c7-4390-9521-b8e36c5b061e"
      },
      "outputs": [
        {
          "data": {
            "text/plain": [
              "True"
            ]
          },
          "execution_count": 61,
          "metadata": {},
          "output_type": "execute_result"
        }
      ],
      "source": [
        "spark.catalog.isCached('homeSales') #Question8"
      ]
    },
    {
      "cell_type": "code",
      "execution_count": null,
      "metadata": {
        "colab": {
          "base_uri": "https://localhost:8080/"
        },
        "id": "QdYxOzzjPCe-",
        "outputId": "0e872266-09eb-44fc-ac01-a2995bd07551"
      },
      "outputs": [
        {
          "name": "stdout",
          "output_type": "stream",
          "text": [
            "+----+----------+\n",
            "|view|       avg|\n",
            "+----+----------+\n",
            "|  99|1061201.42|\n",
            "|  98|1053739.33|\n",
            "|  97|1129040.15|\n",
            "|  96|1017815.92|\n",
            "|  95| 1054325.6|\n",
            "|  94| 1033536.2|\n",
            "|  93|1026006.06|\n",
            "|  92| 970402.55|\n",
            "|  91|1137372.73|\n",
            "|  90|1062654.16|\n",
            "|   9| 401393.34|\n",
            "|  89|1107839.15|\n",
            "|  88|1031719.35|\n",
            "|  87| 1072285.2|\n",
            "|  86|1070444.25|\n",
            "|  85|1056336.74|\n",
            "|  84|1117233.13|\n",
            "|  83|1033965.93|\n",
            "|  82| 1063498.0|\n",
            "|  81|1053472.79|\n",
            "+----+----------+\n",
            "only showing top 20 rows\n",
            "\n"
          ]
        }
      ],
      "source": [
        "from pyspark.sql.functions import col, avg, round\n",
        "from pyspark.sql.window import Window\n",
        "from pyspark.sql import functions as F\n",
        "import time\n",
        "\n",
        "start_time = time.time()\n",
        "\n",
        "question9 = sale_1.filter(col(\"price\") >= 350000) \\\n",
        "    .groupBy(\"view\") \\\n",
        "    .agg(round(avg(\"price\"), 2).alias(\"avg\")) \\\n",
        "    .withColumn(\"row_num\", F.row_number().over(Window.orderBy(F.desc(\"view\")))) \\\n",
        "    .orderBy(\"row_num\") \\\n",
        "    .drop(\"row_num\")\n",
        "\n",
        "question9.show()"
      ]
    },
    {
      "cell_type": "code",
      "execution_count": null,
      "metadata": {
        "id": "v-tfESNfPiS_"
      },
      "outputs": [],
      "source": [
        "sale_1.write.partitionBy(\"view\").mode(\"overwrite\").parquet(\"homeSales_partitioned\") #Question10\n",
        "p_df_p=spark.read.parquet(\"homeSales_partitioned\") #Question11\n",
        "p_df_p.createOrReplaceTempView(\"p_df_p\") #Question12"
      ]
    },
    {
      "cell_type": "code",
      "execution_count": null,
      "metadata": {
        "colab": {
          "base_uri": "https://localhost:8080/"
        },
        "id": "8wfdquZSQBy8",
        "outputId": "86f9c42e-21c0-42bb-8bc6-fec7c21835b0"
      },
      "outputs": [
        {
          "name": "stdout",
          "output_type": "stream",
          "text": [
            "+----+----------+\n",
            "|view|       avg|\n",
            "+----+----------+\n",
            "|  99|1061201.42|\n",
            "|  98|1053739.33|\n",
            "|  97|1129040.15|\n",
            "|  96|1017815.92|\n",
            "|  95| 1054325.6|\n",
            "|  94| 1033536.2|\n",
            "|  93|1026006.06|\n",
            "|  92| 970402.55|\n",
            "|  91|1137372.73|\n",
            "|  90|1062654.16|\n",
            "|   9| 401393.34|\n",
            "|  89|1107839.15|\n",
            "|  88|1031719.35|\n",
            "|  87| 1072285.2|\n",
            "|  86|1070444.25|\n",
            "|  85|1056336.74|\n",
            "|  84|1117233.13|\n",
            "|  83|1033965.93|\n",
            "|  82| 1063498.0|\n",
            "|  81|1053472.79|\n",
            "+----+----------+\n",
            "only showing top 20 rows\n",
            "\n",
            "--- 0.5403738021850586 seconds ---\n"
          ]
        }
      ],
      "source": [
        "from pyspark.sql.functions import col, avg, round\n",
        "import time\n",
        "\n",
        "start_time = time.time()\n",
        "\n",
        "question13 = sale_1.filter(col(\"price\") >= 350000) \\\n",
        "    .groupBy(\"view\") \\\n",
        "    .agg(round(avg(\"price\"), 2).alias(\"avg\")) \\\n",
        "    .orderBy(col(\"view\").desc())\n",
        "\n",
        "question13.show()\n",
        "\n",
        "print(\"--- %s seconds ---\" % (time.time() - start_time))"
      ]
    },
    {
      "cell_type": "code",
      "execution_count": null,
      "metadata": {
        "colab": {
          "base_uri": "https://localhost:8080/"
        },
        "id": "IZiv7EOyQK2a",
        "outputId": "b4754491-a1e0-4c79-daa2-2433d69f2bf1"
      },
      "outputs": [
        {
          "data": {
            "text/plain": [
              "False"
            ]
          },
          "execution_count": 65,
          "metadata": {},
          "output_type": "execute_result"
        }
      ],
      "source": [
        "spark.catalog.uncacheTable(\"homeSales\") #Question14\n",
        "spark.catalog.isCached(\"homeSales\") #Question15"
      ]
    }
  ],
  "metadata": {
    "colab": {
      "provenance": []
    },
    "kernelspec": {
      "display_name": "Python 3",
      "name": "python3"
    },
    "language_info": {
      "name": "python"
    }
  },
  "nbformat": 4,
  "nbformat_minor": 0
}
